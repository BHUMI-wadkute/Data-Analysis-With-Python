{
 "cells": [
  {
   "cell_type": "markdown",
   "id": "b8c7a29c-b78e-408e-acd4-94e10b0d0b5d",
   "metadata": {},
   "source": [
    "#NAME: Bhumi Pravin Wadkute \n",
    "\n",
    "#COLLAGE: (Gov.Poly.Hingoli)"
   ]
  },
  {
   "cell_type": "markdown",
   "id": "ca8337cb-70d8-4391-85ce-e90f0410c9d2",
   "metadata": {},
   "source": [
    "# ASSIGNMENT : "
   ]
  },
  {
   "cell_type": "code",
   "execution_count": 1,
   "id": "46eb802a-2f1e-460a-8a28-9686522fe59c",
   "metadata": {},
   "outputs": [],
   "source": [
    "import pandas as pd"
   ]
  },
  {
   "cell_type": "code",
   "execution_count": 2,
   "id": "32057706-4df5-4533-9ccc-39a7ef1803bf",
   "metadata": {},
   "outputs": [
    {
     "data": {
      "text/plain": [
       "<module 'pandas' from 'C:\\\\Users\\\\bhumi\\\\AppData\\\\Local\\\\Programs\\\\Python\\\\Python313\\\\Lib\\\\site-packages\\\\pandas\\\\__init__.py'>"
      ]
     },
     "execution_count": 2,
     "metadata": {},
     "output_type": "execute_result"
    }
   ],
   "source": [
    "pd"
   ]
  },
  {
   "cell_type": "code",
   "execution_count": 3,
   "id": "de22e0f0-d4ba-4b9d-998f-376d6376db00",
   "metadata": {},
   "outputs": [],
   "source": [
    "df = pd.read_csv('student_info.csv')"
   ]
  },
  {
   "cell_type": "code",
   "execution_count": 4,
   "id": "57e3e834-e2bc-4f0c-88ae-7e29f0f36221",
   "metadata": {},
   "outputs": [
    {
     "data": {
      "text/html": [
       "<div>\n",
       "<style scoped>\n",
       "    .dataframe tbody tr th:only-of-type {\n",
       "        vertical-align: middle;\n",
       "    }\n",
       "\n",
       "    .dataframe tbody tr th {\n",
       "        vertical-align: top;\n",
       "    }\n",
       "\n",
       "    .dataframe thead th {\n",
       "        text-align: right;\n",
       "    }\n",
       "</style>\n",
       "<table border=\"1\" class=\"dataframe\">\n",
       "  <thead>\n",
       "    <tr style=\"text-align: right;\">\n",
       "      <th></th>\n",
       "      <th>student_id</th>\n",
       "      <th>name</th>\n",
       "      <th>gender</th>\n",
       "      <th>age</th>\n",
       "      <th>grade_level</th>\n",
       "      <th>math_score</th>\n",
       "      <th>reading_score</th>\n",
       "      <th>writing_score</th>\n",
       "      <th>attendance_rate</th>\n",
       "      <th>parent_education</th>\n",
       "      <th>study_hours</th>\n",
       "      <th>internet_access</th>\n",
       "      <th>lunch_type</th>\n",
       "      <th>extra_activities</th>\n",
       "      <th>final_result</th>\n",
       "    </tr>\n",
       "  </thead>\n",
       "  <tbody>\n",
       "    <tr>\n",
       "      <th>0</th>\n",
       "      <td>S1</td>\n",
       "      <td>Student_1</td>\n",
       "      <td>Other</td>\n",
       "      <td>17</td>\n",
       "      <td>10</td>\n",
       "      <td>74</td>\n",
       "      <td>61</td>\n",
       "      <td>90</td>\n",
       "      <td>94.660002</td>\n",
       "      <td>Master's</td>\n",
       "      <td>4.120192</td>\n",
       "      <td>Yes</td>\n",
       "      <td>Free or reduced</td>\n",
       "      <td>Yes</td>\n",
       "      <td>Fail</td>\n",
       "    </tr>\n",
       "    <tr>\n",
       "      <th>1</th>\n",
       "      <td>S2</td>\n",
       "      <td>Student_2</td>\n",
       "      <td>Male</td>\n",
       "      <td>17</td>\n",
       "      <td>12</td>\n",
       "      <td>99</td>\n",
       "      <td>70</td>\n",
       "      <td>91</td>\n",
       "      <td>93.173227</td>\n",
       "      <td>Bachelor's</td>\n",
       "      <td>2.886505</td>\n",
       "      <td>No</td>\n",
       "      <td>Free or reduced</td>\n",
       "      <td>No</td>\n",
       "      <td>Pass</td>\n",
       "    </tr>\n",
       "    <tr>\n",
       "      <th>2</th>\n",
       "      <td>S3</td>\n",
       "      <td>Student_3</td>\n",
       "      <td>Other</td>\n",
       "      <td>17</td>\n",
       "      <td>9</td>\n",
       "      <td>59</td>\n",
       "      <td>60</td>\n",
       "      <td>99</td>\n",
       "      <td>98.631098</td>\n",
       "      <td>PhD</td>\n",
       "      <td>1.909926</td>\n",
       "      <td>No</td>\n",
       "      <td>Free or reduced</td>\n",
       "      <td>No</td>\n",
       "      <td>Fail</td>\n",
       "    </tr>\n",
       "    <tr>\n",
       "      <th>3</th>\n",
       "      <td>S4</td>\n",
       "      <td>Student_4</td>\n",
       "      <td>Other</td>\n",
       "      <td>17</td>\n",
       "      <td>12</td>\n",
       "      <td>70</td>\n",
       "      <td>88</td>\n",
       "      <td>69</td>\n",
       "      <td>96.419620</td>\n",
       "      <td>PhD</td>\n",
       "      <td>1.664740</td>\n",
       "      <td>No</td>\n",
       "      <td>Standard</td>\n",
       "      <td>No</td>\n",
       "      <td>Pass</td>\n",
       "    </tr>\n",
       "    <tr>\n",
       "      <th>4</th>\n",
       "      <td>S5</td>\n",
       "      <td>Student_5</td>\n",
       "      <td>Male</td>\n",
       "      <td>15</td>\n",
       "      <td>9</td>\n",
       "      <td>85</td>\n",
       "      <td>77</td>\n",
       "      <td>94</td>\n",
       "      <td>91.332105</td>\n",
       "      <td>PhD</td>\n",
       "      <td>2.330918</td>\n",
       "      <td>Yes</td>\n",
       "      <td>Free or reduced</td>\n",
       "      <td>No</td>\n",
       "      <td>Pass</td>\n",
       "    </tr>\n",
       "    <tr>\n",
       "      <th>...</th>\n",
       "      <td>...</td>\n",
       "      <td>...</td>\n",
       "      <td>...</td>\n",
       "      <td>...</td>\n",
       "      <td>...</td>\n",
       "      <td>...</td>\n",
       "      <td>...</td>\n",
       "      <td>...</td>\n",
       "      <td>...</td>\n",
       "      <td>...</td>\n",
       "      <td>...</td>\n",
       "      <td>...</td>\n",
       "      <td>...</td>\n",
       "      <td>...</td>\n",
       "      <td>...</td>\n",
       "    </tr>\n",
       "    <tr>\n",
       "      <th>995</th>\n",
       "      <td>S996</td>\n",
       "      <td>Student_996</td>\n",
       "      <td>Female</td>\n",
       "      <td>15</td>\n",
       "      <td>10</td>\n",
       "      <td>76</td>\n",
       "      <td>75</td>\n",
       "      <td>55</td>\n",
       "      <td>94.127440</td>\n",
       "      <td>Bachelor's</td>\n",
       "      <td>2.212263</td>\n",
       "      <td>Yes</td>\n",
       "      <td>Free or reduced</td>\n",
       "      <td>No</td>\n",
       "      <td>Fail</td>\n",
       "    </tr>\n",
       "    <tr>\n",
       "      <th>996</th>\n",
       "      <td>S997</td>\n",
       "      <td>Student_997</td>\n",
       "      <td>Female</td>\n",
       "      <td>17</td>\n",
       "      <td>12</td>\n",
       "      <td>83</td>\n",
       "      <td>68</td>\n",
       "      <td>98</td>\n",
       "      <td>86.911592</td>\n",
       "      <td>Bachelor's</td>\n",
       "      <td>3.552898</td>\n",
       "      <td>No</td>\n",
       "      <td>Free or reduced</td>\n",
       "      <td>Yes</td>\n",
       "      <td>Fail</td>\n",
       "    </tr>\n",
       "    <tr>\n",
       "      <th>997</th>\n",
       "      <td>S998</td>\n",
       "      <td>Student_998</td>\n",
       "      <td>Other</td>\n",
       "      <td>16</td>\n",
       "      <td>10</td>\n",
       "      <td>60</td>\n",
       "      <td>77</td>\n",
       "      <td>92</td>\n",
       "      <td>80.139645</td>\n",
       "      <td>PhD</td>\n",
       "      <td>2.400027</td>\n",
       "      <td>No</td>\n",
       "      <td>Free or reduced</td>\n",
       "      <td>No</td>\n",
       "      <td>Pass</td>\n",
       "    </tr>\n",
       "    <tr>\n",
       "      <th>998</th>\n",
       "      <td>S999</td>\n",
       "      <td>Student_999</td>\n",
       "      <td>Other</td>\n",
       "      <td>17</td>\n",
       "      <td>9</td>\n",
       "      <td>94</td>\n",
       "      <td>66</td>\n",
       "      <td>97</td>\n",
       "      <td>88.069619</td>\n",
       "      <td>PhD</td>\n",
       "      <td>4.713490</td>\n",
       "      <td>No</td>\n",
       "      <td>Free or reduced</td>\n",
       "      <td>Yes</td>\n",
       "      <td>Pass</td>\n",
       "    </tr>\n",
       "    <tr>\n",
       "      <th>999</th>\n",
       "      <td>S1000</td>\n",
       "      <td>Student_1000</td>\n",
       "      <td>Male</td>\n",
       "      <td>17</td>\n",
       "      <td>9</td>\n",
       "      <td>96</td>\n",
       "      <td>92</td>\n",
       "      <td>93</td>\n",
       "      <td>84.695088</td>\n",
       "      <td>PhD</td>\n",
       "      <td>1.262504</td>\n",
       "      <td>No</td>\n",
       "      <td>Free or reduced</td>\n",
       "      <td>Yes</td>\n",
       "      <td>Pass</td>\n",
       "    </tr>\n",
       "  </tbody>\n",
       "</table>\n",
       "<p>1000 rows × 15 columns</p>\n",
       "</div>"
      ],
      "text/plain": [
       "    student_id          name  gender  age  grade_level  math_score  \\\n",
       "0           S1     Student_1   Other   17           10          74   \n",
       "1           S2     Student_2    Male   17           12          99   \n",
       "2           S3     Student_3   Other   17            9          59   \n",
       "3           S4     Student_4   Other   17           12          70   \n",
       "4           S5     Student_5    Male   15            9          85   \n",
       "..         ...           ...     ...  ...          ...         ...   \n",
       "995       S996   Student_996  Female   15           10          76   \n",
       "996       S997   Student_997  Female   17           12          83   \n",
       "997       S998   Student_998   Other   16           10          60   \n",
       "998       S999   Student_999   Other   17            9          94   \n",
       "999      S1000  Student_1000    Male   17            9          96   \n",
       "\n",
       "     reading_score  writing_score  attendance_rate parent_education  \\\n",
       "0               61             90        94.660002         Master's   \n",
       "1               70             91        93.173227       Bachelor's   \n",
       "2               60             99        98.631098              PhD   \n",
       "3               88             69        96.419620              PhD   \n",
       "4               77             94        91.332105              PhD   \n",
       "..             ...            ...              ...              ...   \n",
       "995             75             55        94.127440       Bachelor's   \n",
       "996             68             98        86.911592       Bachelor's   \n",
       "997             77             92        80.139645              PhD   \n",
       "998             66             97        88.069619              PhD   \n",
       "999             92             93        84.695088              PhD   \n",
       "\n",
       "     study_hours internet_access       lunch_type extra_activities  \\\n",
       "0       4.120192             Yes  Free or reduced              Yes   \n",
       "1       2.886505              No  Free or reduced               No   \n",
       "2       1.909926              No  Free or reduced               No   \n",
       "3       1.664740              No         Standard               No   \n",
       "4       2.330918             Yes  Free or reduced               No   \n",
       "..           ...             ...              ...              ...   \n",
       "995     2.212263             Yes  Free or reduced               No   \n",
       "996     3.552898              No  Free or reduced              Yes   \n",
       "997     2.400027              No  Free or reduced               No   \n",
       "998     4.713490              No  Free or reduced              Yes   \n",
       "999     1.262504              No  Free or reduced              Yes   \n",
       "\n",
       "    final_result  \n",
       "0           Fail  \n",
       "1           Pass  \n",
       "2           Fail  \n",
       "3           Pass  \n",
       "4           Pass  \n",
       "..           ...  \n",
       "995         Fail  \n",
       "996         Fail  \n",
       "997         Pass  \n",
       "998         Pass  \n",
       "999         Pass  \n",
       "\n",
       "[1000 rows x 15 columns]"
      ]
     },
     "execution_count": 4,
     "metadata": {},
     "output_type": "execute_result"
    }
   ],
   "source": [
    "df"
   ]
  },
  {
   "cell_type": "code",
   "execution_count": null,
   "id": "6f160a8e-ea7b-4d4e-b926-051646fa66db",
   "metadata": {},
   "outputs": [],
   "source": []
  },
  {
   "cell_type": "markdown",
   "id": "198f685c-aad6-472e-94c1-298f31893c63",
   "metadata": {},
   "source": [
    "# TASK 1 : DISPLAY SPECIFIC ROWS AND COLUMNS"
   ]
  },
  {
   "cell_type": "code",
   "execution_count": 5,
   "id": "86d17bab-68b1-4bf8-a050-813ded408eba",
   "metadata": {},
   "outputs": [
    {
     "data": {
      "text/html": [
       "<div>\n",
       "<style scoped>\n",
       "    .dataframe tbody tr th:only-of-type {\n",
       "        vertical-align: middle;\n",
       "    }\n",
       "\n",
       "    .dataframe tbody tr th {\n",
       "        vertical-align: top;\n",
       "    }\n",
       "\n",
       "    .dataframe thead th {\n",
       "        text-align: right;\n",
       "    }\n",
       "</style>\n",
       "<table border=\"1\" class=\"dataframe\">\n",
       "  <thead>\n",
       "    <tr style=\"text-align: right;\">\n",
       "      <th></th>\n",
       "      <th>name</th>\n",
       "      <th>grade_level</th>\n",
       "    </tr>\n",
       "  </thead>\n",
       "  <tbody>\n",
       "    <tr>\n",
       "      <th>0</th>\n",
       "      <td>Student_1</td>\n",
       "      <td>10</td>\n",
       "    </tr>\n",
       "    <tr>\n",
       "      <th>1</th>\n",
       "      <td>Student_2</td>\n",
       "      <td>12</td>\n",
       "    </tr>\n",
       "    <tr>\n",
       "      <th>2</th>\n",
       "      <td>Student_3</td>\n",
       "      <td>9</td>\n",
       "    </tr>\n",
       "  </tbody>\n",
       "</table>\n",
       "</div>"
      ],
      "text/plain": [
       "        name  grade_level\n",
       "0  Student_1           10\n",
       "1  Student_2           12\n",
       "2  Student_3            9"
      ]
     },
     "execution_count": 5,
     "metadata": {},
     "output_type": "execute_result"
    }
   ],
   "source": [
    "df.iloc[0:3][['name','grade_level']]"
   ]
  },
  {
   "cell_type": "markdown",
   "id": "cc45355b-0d0b-4ae6-9bda-cbc919f44153",
   "metadata": {},
   "source": [
    "# TASK 2 : COUNT GENDER DISTRIBUTION"
   ]
  },
  {
   "cell_type": "code",
   "execution_count": 6,
   "id": "e8d6fed9-1883-4ac8-8c16-63e600ab7980",
   "metadata": {},
   "outputs": [
    {
     "data": {
      "text/plain": [
       "gender\n",
       "Male      355\n",
       "Female    326\n",
       "Other     319\n",
       "Name: count, dtype: int64"
      ]
     },
     "execution_count": 6,
     "metadata": {},
     "output_type": "execute_result"
    }
   ],
   "source": [
    "df['gender'].value_counts()"
   ]
  },
  {
   "cell_type": "markdown",
   "id": "c13cb161-dbd5-4837-a547-cf3d08aa918a",
   "metadata": {},
   "source": [
    "# TASK 3 : FIND MISSING DATA"
   ]
  },
  {
   "cell_type": "code",
   "execution_count": 7,
   "id": "8d9f5524-3532-4f55-8c63-41c0a8587d23",
   "metadata": {},
   "outputs": [
    {
     "data": {
      "text/plain": [
       "np.int64(0)"
      ]
     },
     "execution_count": 7,
     "metadata": {},
     "output_type": "execute_result"
    }
   ],
   "source": [
    "df['grade_level'].isnull().sum()"
   ]
  },
  {
   "cell_type": "markdown",
   "id": "705af200-8734-461d-8b55-6f6482f88032",
   "metadata": {},
   "source": [
    "# Task 4: Fill Missing Marks"
   ]
  },
  {
   "cell_type": "code",
   "execution_count": 8,
   "id": "a04b581c-3a53-4d91-9353-6f87595fa287",
   "metadata": {},
   "outputs": [
    {
     "data": {
      "text/plain": [
       "0      10\n",
       "1      12\n",
       "2       9\n",
       "3      12\n",
       "4       9\n",
       "       ..\n",
       "995    10\n",
       "996    12\n",
       "997    10\n",
       "998     9\n",
       "999     9\n",
       "Name: grade_level, Length: 1000, dtype: int64"
      ]
     },
     "execution_count": 8,
     "metadata": {},
     "output_type": "execute_result"
    }
   ],
   "source": [
    "df['grade_level'].replace('fillna', 9)"
   ]
  },
  {
   "cell_type": "markdown",
   "id": "9b997cb6-7658-49ec-b9ce-d611e483f543",
   "metadata": {},
   "source": [
    "# Task 5: Filter and Display High Scorers"
   ]
  },
  {
   "cell_type": "code",
   "execution_count": 9,
   "id": "e6d85194-26c2-4608-8ca5-73f7bce91a57",
   "metadata": {},
   "outputs": [],
   "source": [
    "score=df.loc[df['math_score']>80,['name','math_score']] "
   ]
  },
  {
   "cell_type": "code",
   "execution_count": 10,
   "id": "66882dbb-e83c-482e-b460-f0734592bcf0",
   "metadata": {},
   "outputs": [
    {
     "data": {
      "text/html": [
       "<div>\n",
       "<style scoped>\n",
       "    .dataframe tbody tr th:only-of-type {\n",
       "        vertical-align: middle;\n",
       "    }\n",
       "\n",
       "    .dataframe tbody tr th {\n",
       "        vertical-align: top;\n",
       "    }\n",
       "\n",
       "    .dataframe thead th {\n",
       "        text-align: right;\n",
       "    }\n",
       "</style>\n",
       "<table border=\"1\" class=\"dataframe\">\n",
       "  <thead>\n",
       "    <tr style=\"text-align: right;\">\n",
       "      <th></th>\n",
       "      <th>name</th>\n",
       "      <th>math_score</th>\n",
       "    </tr>\n",
       "  </thead>\n",
       "  <tbody>\n",
       "    <tr>\n",
       "      <th>1</th>\n",
       "      <td>Student_2</td>\n",
       "      <td>99</td>\n",
       "    </tr>\n",
       "    <tr>\n",
       "      <th>4</th>\n",
       "      <td>Student_5</td>\n",
       "      <td>85</td>\n",
       "    </tr>\n",
       "    <tr>\n",
       "      <th>7</th>\n",
       "      <td>Student_8</td>\n",
       "      <td>89</td>\n",
       "    </tr>\n",
       "    <tr>\n",
       "      <th>10</th>\n",
       "      <td>Student_11</td>\n",
       "      <td>81</td>\n",
       "    </tr>\n",
       "    <tr>\n",
       "      <th>13</th>\n",
       "      <td>Student_14</td>\n",
       "      <td>81</td>\n",
       "    </tr>\n",
       "    <tr>\n",
       "      <th>...</th>\n",
       "      <td>...</td>\n",
       "      <td>...</td>\n",
       "    </tr>\n",
       "    <tr>\n",
       "      <th>992</th>\n",
       "      <td>Student_993</td>\n",
       "      <td>86</td>\n",
       "    </tr>\n",
       "    <tr>\n",
       "      <th>993</th>\n",
       "      <td>Student_994</td>\n",
       "      <td>85</td>\n",
       "    </tr>\n",
       "    <tr>\n",
       "      <th>996</th>\n",
       "      <td>Student_997</td>\n",
       "      <td>83</td>\n",
       "    </tr>\n",
       "    <tr>\n",
       "      <th>998</th>\n",
       "      <td>Student_999</td>\n",
       "      <td>94</td>\n",
       "    </tr>\n",
       "    <tr>\n",
       "      <th>999</th>\n",
       "      <td>Student_1000</td>\n",
       "      <td>96</td>\n",
       "    </tr>\n",
       "  </tbody>\n",
       "</table>\n",
       "<p>396 rows × 2 columns</p>\n",
       "</div>"
      ],
      "text/plain": [
       "             name  math_score\n",
       "1       Student_2          99\n",
       "4       Student_5          85\n",
       "7       Student_8          89\n",
       "10     Student_11          81\n",
       "13     Student_14          81\n",
       "..            ...         ...\n",
       "992   Student_993          86\n",
       "993   Student_994          85\n",
       "996   Student_997          83\n",
       "998   Student_999          94\n",
       "999  Student_1000          96\n",
       "\n",
       "[396 rows x 2 columns]"
      ]
     },
     "execution_count": 10,
     "metadata": {},
     "output_type": "execute_result"
    }
   ],
   "source": [
    "score"
   ]
  },
  {
   "cell_type": "code",
   "execution_count": 11,
   "id": "6da27fab-83f4-4432-ab9a-3107cd81a37f",
   "metadata": {},
   "outputs": [
    {
     "data": {
      "text/plain": [
       "0      True\n",
       "1      True\n",
       "2      True\n",
       "3      True\n",
       "4      True\n",
       "       ... \n",
       "995    True\n",
       "996    True\n",
       "997    True\n",
       "998    True\n",
       "999    True\n",
       "Name: math_score, Length: 1000, dtype: bool"
      ]
     },
     "execution_count": 11,
     "metadata": {},
     "output_type": "execute_result"
    }
   ],
   "source": [
    "df['math_score'] > 50"
   ]
  },
  {
   "cell_type": "code",
   "execution_count": null,
   "id": "955f37f8-3c86-4076-9d0b-bc558175e276",
   "metadata": {},
   "outputs": [],
   "source": []
  },
  {
   "cell_type": "code",
   "execution_count": null,
   "id": "b3832779-ff94-4186-96ec-1216a31d80c3",
   "metadata": {},
   "outputs": [],
   "source": []
  },
  {
   "cell_type": "code",
   "execution_count": null,
   "id": "b2835204-93f6-48f7-ac08-d3289fa165a6",
   "metadata": {},
   "outputs": [],
   "source": []
  }
 ],
 "metadata": {
  "kernelspec": {
   "display_name": "Python 3 (ipykernel)",
   "language": "python",
   "name": "python3"
  },
  "language_info": {
   "codemirror_mode": {
    "name": "ipython",
    "version": 3
   },
   "file_extension": ".py",
   "mimetype": "text/x-python",
   "name": "python",
   "nbconvert_exporter": "python",
   "pygments_lexer": "ipython3",
   "version": "3.13.4"
  }
 },
 "nbformat": 4,
 "nbformat_minor": 5
}
